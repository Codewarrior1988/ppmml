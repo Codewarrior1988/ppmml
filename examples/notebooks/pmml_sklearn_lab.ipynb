{
 "cells": [
  {
   "cell_type": "code",
   "execution_count": null,
   "metadata": {
    "collapsed": true
   },
   "outputs": [],
   "source": [
    "import pandas as pd\n",
    "import numpy as np\n",
    "import sklearn2pmml as pmml\n",
    "from sklearn.datasets import load_iris\n",
    "from sklearn.cluster import KMeans\n",
    "from sklearn.externals import joblib"
   ]
  },
  {
   "cell_type": "code",
   "execution_count": null,
   "metadata": {
    "collapsed": true
   },
   "outputs": [],
   "source": [
    "iris_data = load_iris(True)\n",
    "(X, y) = iris_data\n",
    "df = pd.DataFrame(X)\n",
    "df.columns = ['x1', 'x2', 'x3', 'x4']\n",
    "# df.to_csv(\"~/Codecookies/machine-learning-workspace/datasets/iris/train.csv\", columns=['x1', 'x2', 'x3', 'x4'], index=False)"
   ]
  },
  {
   "cell_type": "code",
   "execution_count": null,
   "metadata": {
    "collapsed": true
   },
   "outputs": [],
   "source": [
    "base_path = \"./pmml-models/sklearn/\""
   ]
  },
  {
   "cell_type": "code",
   "execution_count": null,
   "metadata": {},
   "outputs": [],
   "source": [
    "# output kmeans model\n",
    "kmeans = KMeans(n_clusters=3, max_iter=100, random_state=42)\n",
    "%time kmeans.fit(X)\n",
    "print kmeans.labels_\n",
    "print kmeans.cluster_centers_\n",
    "joblib.dump(kmeans, base_path + \"kmeans.pkl.z\", compress = 9)\n",
    "kmeans_loaded = joblib.load(base_path + \"kmeans.pkl.z\")\n",
    "# then run code\n",
    "# java -jar ../../jpmml-sklearn/target/converter-executable-1.4-SNAPSHOT.jar --pkl-input kmeans.pkl.z --pmml-output kmeans-pmml"
   ]
  },
  {
   "cell_type": "code",
   "execution_count": 21,
   "metadata": {},
   "outputs": [
    {
     "name": "stderr",
     "output_type": "stream",
     "text": [
      "/Users/lgrcyanny/anaconda2/lib/python2.7/site-packages/sklearn/decomposition/online_lda.py:532: DeprecationWarning: The default value for 'learning_method' will be changed from 'online' to 'batch' in the release 0.20. This warning was introduced in 0.18.\n",
      "  DeprecationWarning)\n"
     ]
    },
    {
     "name": "stdout",
     "output_type": "stream",
     "text": [
      "CPU times: user 687 ms, sys: 22.8 ms, total: 710 ms\n",
      "Wall time: 768 ms\n"
     ]
    },
    {
     "data": {
      "text/plain": [
       "['lda.pkl.z']"
      ]
     },
     "execution_count": 21,
     "metadata": {},
     "output_type": "execute_result"
    }
   ],
   "source": [
    "# output LDA model\n",
    "from sklearn.decomposition import LatentDirichletAllocation\n",
    "lda = LatentDirichletAllocation(max_iter=10)\n",
    "%time lda.fit(X)\n",
    "joblib.dump(lda, base_path + \"lda.pkl.z\", compress = 9)"
   ]
  },
  {
   "cell_type": "code",
   "execution_count": 23,
   "metadata": {},
   "outputs": [
    {
     "name": "stdout",
     "output_type": "stream",
     "text": [
      "CPU times: user 4.7 ms, sys: 10 ms, total: 14.7 ms\n",
      "Wall time: 35.5 ms\n"
     ]
    },
    {
     "data": {
      "text/plain": [
       "['dbscan.pkl.z']"
      ]
     },
     "execution_count": 23,
     "metadata": {},
     "output_type": "execute_result"
    }
   ],
   "source": [
    "# output DBSCAN model\n",
    "from sklearn.cluster import DBSCAN\n",
    "dbscan = DBSCAN()\n",
    "%time dbscan.fit(X)\n",
    "joblib.dump(dbscan, base_path + \"dbscan.pkl.z\", compress = 9) # not supported by PMML"
   ]
  },
  {
   "cell_type": "code",
   "execution_count": 11,
   "metadata": {},
   "outputs": [
    {
     "name": "stdout",
     "output_type": "stream",
     "text": [
      "CPU times: user 5.01 ms, sys: 25.4 ms, total: 30.4 ms\n",
      "Wall time: 50.3 ms\n"
     ]
    },
    {
     "data": {
      "text/plain": [
       "['decision_tree.pkl.z']"
      ]
     },
     "execution_count": 11,
     "metadata": {},
     "output_type": "execute_result"
    }
   ],
   "source": [
    "# output decision tree model\n",
    "from sklearn.tree import DecisionTreeClassifier\n",
    "tree_clf = DecisionTreeClassifier(max_depth=6)\n",
    "%time tree_clf.fit(X, y)\n",
    "joblib.dump(tree_clf, base_path + \"decision_tree.pkl.z\", compress = 9)"
   ]
  },
  {
   "cell_type": "code",
   "execution_count": 18,
   "metadata": {},
   "outputs": [
    {
     "name": "stdout",
     "output_type": "stream",
     "text": [
      "CPU times: user 57 ms, sys: 10.1 ms, total: 67.1 ms\n",
      "Wall time: 80.7 ms\n"
     ]
    },
    {
     "data": {
      "text/plain": [
       "['random_forest.pkl.z']"
      ]
     },
     "execution_count": 18,
     "metadata": {},
     "output_type": "execute_result"
    }
   ],
   "source": [
    "# output random forest model\n",
    "from sklearn.ensemble import RandomForestClassifier\n",
    "tree_clf = RandomForestClassifier(max_depth=6)\n",
    "%time tree_clf.fit(X, y)\n",
    "joblib.dump(tree_clf, base_path + \"random_forest.pkl.z\", compress = 9)"
   ]
  },
  {
   "cell_type": "code",
   "execution_count": 24,
   "metadata": {},
   "outputs": [
    {
     "name": "stdout",
     "output_type": "stream",
     "text": [
      "CPU times: user 4.04 ms, sys: 11.6 ms, total: 15.6 ms\n",
      "Wall time: 28.6 ms\n"
     ]
    },
    {
     "data": {
      "text/plain": [
       "['logistic_regression.pkl.z']"
      ]
     },
     "execution_count": 24,
     "metadata": {},
     "output_type": "execute_result"
    }
   ],
   "source": [
    "# output lr model\n",
    "from sklearn.linear_model import LogisticRegression\n",
    "lr = LogisticRegression(tol=1e-5)\n",
    "%time lr.fit(X, y)\n",
    "joblib.dump(lr, base_path + \"logistic_regression.pkl.z\", compress = 9)"
   ]
  },
  {
   "cell_type": "code",
   "execution_count": 12,
   "metadata": {},
   "outputs": [
    {
     "name": "stdout",
     "output_type": "stream",
     "text": [
      "CPU times: user 161 ms, sys: 41 ms, total: 202 ms\n",
      "Wall time: 258 ms\n"
     ]
    },
    {
     "name": "stderr",
     "output_type": "stream",
     "text": [
      "/Users/lgrcyanny/anaconda2/lib/python2.7/site-packages/sklearn/neural_network/multilayer_perceptron.py:564: ConvergenceWarning: Stochastic Optimizer: Maximum iterations (200) reached and the optimization hasn't converged yet.\n",
      "  % self.max_iter, ConvergenceWarning)\n"
     ]
    },
    {
     "data": {
      "text/plain": [
       "['neural_network.pkl.z']"
      ]
     },
     "execution_count": 12,
     "metadata": {},
     "output_type": "execute_result"
    }
   ],
   "source": [
    "# output NN model\n",
    "from sklearn.neural_network import MLPClassifier\n",
    "nn = MLPClassifier()\n",
    "%time nn.fit(X, y)\n",
    "joblib.dump(nn, base_path + \"neural_network.pkl.z\", compress=9)"
   ]
  },
  {
   "cell_type": "code",
   "execution_count": null,
   "metadata": {
    "collapsed": true
   },
   "outputs": [],
   "source": []
  }
 ],
 "metadata": {
  "kernelspec": {
   "display_name": "Python 2",
   "language": "python",
   "name": "python2"
  },
  "language_info": {
   "codemirror_mode": {
    "name": "ipython",
    "version": 2
   },
   "file_extension": ".py",
   "mimetype": "text/x-python",
   "name": "python",
   "nbconvert_exporter": "python",
   "pygments_lexer": "ipython2",
   "version": "2.7.13"
  }
 },
 "nbformat": 4,
 "nbformat_minor": 2
}
