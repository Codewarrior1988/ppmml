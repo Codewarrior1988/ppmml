{
 "cells": [
  {
   "cell_type": "code",
   "execution_count": 1,
   "metadata": {
    "collapsed": true
   },
   "outputs": [],
   "source": [
    "import pandas as pd\n",
    "import numpy as np\n",
    "import shutil\n",
    "import sklearn2pmml as pmml\n",
    "from sklearn.datasets import load_iris\n",
    "from sklearn.cluster import KMeans\n",
    "from sklearn.externals import joblib\n",
    "from sklearn.model_selection import train_test_split\n",
    "import ppmml"
   ]
  },
  {
   "cell_type": "code",
   "execution_count": 2,
   "metadata": {
    "collapsed": true
   },
   "outputs": [],
   "source": [
    "iris_data = load_iris(True)\n",
    "(X, y) = iris_data\n",
    "df = pd.DataFrame(X)\n",
    "df.columns = ['x1', 'x2', 'x3', 'x4']"
   ]
  },
  {
   "cell_type": "code",
   "execution_count": 13,
   "metadata": {},
   "outputs": [],
   "source": [
    "output_df = pd.DataFrame(X)\n",
    "output_df.columns = ['x1', 'x2', 'x3', 'x4']\n",
    "output_df['y'] = y\n",
    "output_df.to_csv(\"/Users/lgrcyanny/Codecookies/machine-learning-workspace/datasets/iris/test.csv\", header=True, index=False)"
   ]
  },
  {
   "cell_type": "code",
   "execution_count": 3,
   "metadata": {
    "collapsed": true
   },
   "outputs": [],
   "source": [
    "base_path = \"/tmp/pmml-models/sklearn/\""
   ]
  },
  {
   "cell_type": "code",
   "execution_count": 5,
   "metadata": {},
   "outputs": [
    {
     "name": "stdout",
     "output_type": "stream",
     "text": [
      "CPU times: user 22.4 ms, sys: 2.24 ms, total: 24.6 ms\n",
      "Wall time: 22.6 ms\n",
      "[1 1 1 1 1 1 1 1 1 1 1 1 1 1 1 1 1 1 1 1 1 1 1 1 1 1 1 1 1 1 1 1 1 1 1 1 1\n",
      " 1 1 1 1 1 1 1 1 1 1 1 1 1 0 0 2 0 0 0 0 0 0 0 0 0 0 0 0 0 0 0 0 0 0 0 0 0\n",
      " 0 0 0 2 0 0 0 0 0 0 0 0 0 0 0 0 0 0 0 0 0 0 0 0 0 0 2 0 2 2 2 2 0 2 2 2 2\n",
      " 2 2 0 0 2 2 2 2 0 2 0 2 0 2 2 0 0 2 2 2 2 2 0 2 2 2 2 0 2 2 2 0 2 2 2 0 2\n",
      " 2 0]\n",
      "[[ 5.9016129   2.7483871   4.39354839  1.43387097]\n",
      " [ 5.006       3.418       1.464       0.244     ]\n",
      " [ 6.85        3.07368421  5.74210526  2.07105263]]\n",
      "INFO: 17-12-26 11:43:13: base_converter.py:88 * 140735235661824 Startint to convert model file /tmp/pmml-models/sklearn/kmeans.pkl.z to pmml file /tmp/pmml-models/sklearn/kmeans.pmml with schema None and options: None\n",
      "INFO: 17-12-26 11:43:15: base_converter.py:95 * 140735235661824 Successfully generate pmml file: /tmp/pmml-models/sklearn/kmeans.pmml\n"
     ]
    }
   ],
   "source": [
    "# output kmeans model\n",
    "kmeans = KMeans(n_clusters=3, max_iter=100, random_state=42)\n",
    "%time kmeans.fit(X)\n",
    "print kmeans.labels_\n",
    "print kmeans.cluster_centers_\n",
    "# dump kmeans lib\n",
    "kmeans_model_path = base_path + \"kmeans.pkl.z\"\n",
    "joblib.dump(kmeans, kmeans_model_path, compress = 9)\n",
    "kmeans_loaded = joblib.load(kmeans_model_path)\n",
    "# call ppmml to convert to pmml file\n",
    "ppmml.to_pmml(model_input=kmeans_model_path, pmml_output=base_path + \"kmeans.pmml\")\n",
    "# then run code\n",
    "# java -jar ../../jpmml-sklearn/target/converter-executable-1.4-SNAPSHOT.jar --pkl-input kmeans.pkl.z --pmml-output kmeans-pmml"
   ]
  },
  {
   "cell_type": "code",
   "execution_count": 21,
   "metadata": {},
   "outputs": [
    {
     "name": "stderr",
     "output_type": "stream",
     "text": [
      "/Users/lgrcyanny/anaconda2/lib/python2.7/site-packages/sklearn/decomposition/online_lda.py:532: DeprecationWarning: The default value for 'learning_method' will be changed from 'online' to 'batch' in the release 0.20. This warning was introduced in 0.18.\n",
      "  DeprecationWarning)\n"
     ]
    },
    {
     "name": "stdout",
     "output_type": "stream",
     "text": [
      "CPU times: user 687 ms, sys: 22.8 ms, total: 710 ms\n",
      "Wall time: 768 ms\n"
     ]
    },
    {
     "data": {
      "text/plain": [
       "['lda.pkl.z']"
      ]
     },
     "execution_count": 21,
     "metadata": {},
     "output_type": "execute_result"
    }
   ],
   "source": [
    "# output LDA model\n",
    "from sklearn.decomposition import LatentDirichletAllocation\n",
    "lda = LatentDirichletAllocation(max_iter=10)\n",
    "%time lda.fit(X)\n",
    "joblib.dump(lda, base_path + \"lda.pkl.z\", compress = 9)"
   ]
  },
  {
   "cell_type": "code",
   "execution_count": 23,
   "metadata": {},
   "outputs": [
    {
     "name": "stdout",
     "output_type": "stream",
     "text": [
      "CPU times: user 4.7 ms, sys: 10 ms, total: 14.7 ms\n",
      "Wall time: 35.5 ms\n"
     ]
    },
    {
     "data": {
      "text/plain": [
       "['dbscan.pkl.z']"
      ]
     },
     "execution_count": 23,
     "metadata": {},
     "output_type": "execute_result"
    }
   ],
   "source": [
    "# output DBSCAN model\n",
    "from sklearn.cluster import DBSCAN\n",
    "dbscan = DBSCAN()\n",
    "%time dbscan.fit(X)\n",
    "joblib.dump(dbscan, base_path + \"dbscan.pkl.z\", compress = 9) # not supported by PMML"
   ]
  },
  {
   "cell_type": "code",
   "execution_count": 8,
   "metadata": {},
   "outputs": [
    {
     "name": "stdout",
     "output_type": "stream",
     "text": [
      "CPU times: user 1.07 ms, sys: 532 µs, total: 1.61 ms\n",
      "Wall time: 1.03 ms\n",
      "INFO: 17-12-26 11:53:26: base_converter.py:88 * 140735235661824 Startint to convert model file /tmp/pmml-models/sklearn/decision_tree.pkl.z to pmml file /tmp/pmml-models/sklearn/decision_tree.pmml with schema None and options: None\n",
      "INFO: 17-12-26 11:53:28: base_converter.py:95 * 140735235661824 Successfully generate pmml file: /tmp/pmml-models/sklearn/decision_tree.pmml\n"
     ]
    }
   ],
   "source": [
    "# output decision tree model\n",
    "from sklearn.tree import DecisionTreeClassifier\n",
    "tree_clf = DecisionTreeClassifier(max_depth=6)\n",
    "%time tree_clf.fit(X, y)\n",
    "joblib.dump(tree_clf, base_path + \"decision_tree.pkl.z\", compress = 9)\n",
    "# convert with ppmml\n",
    "ppmml.to_pmml(model_input=base_path + \"decision_tree.pkl.z\", pmml_output=base_path + \"decision_tree.pmml\")"
   ]
  },
  {
   "cell_type": "code",
   "execution_count": 18,
   "metadata": {},
   "outputs": [
    {
     "name": "stdout",
     "output_type": "stream",
     "text": [
      "CPU times: user 57 ms, sys: 10.1 ms, total: 67.1 ms\n",
      "Wall time: 80.7 ms\n"
     ]
    },
    {
     "data": {
      "text/plain": [
       "['random_forest.pkl.z']"
      ]
     },
     "execution_count": 18,
     "metadata": {},
     "output_type": "execute_result"
    }
   ],
   "source": [
    "# output random forest model\n",
    "from sklearn.ensemble import RandomForestClassifier\n",
    "tree_clf = RandomForestClassifier(max_depth=6)\n",
    "%time tree_clf.fit(X, y)\n",
    "joblib.dump(tree_clf, base_path + \"random_forest.pkl.z\", compress = 9)"
   ]
  },
  {
   "cell_type": "code",
   "execution_count": 24,
   "metadata": {},
   "outputs": [
    {
     "name": "stdout",
     "output_type": "stream",
     "text": [
      "CPU times: user 4.04 ms, sys: 11.6 ms, total: 15.6 ms\n",
      "Wall time: 28.6 ms\n"
     ]
    },
    {
     "data": {
      "text/plain": [
       "['logistic_regression.pkl.z']"
      ]
     },
     "execution_count": 24,
     "metadata": {},
     "output_type": "execute_result"
    }
   ],
   "source": [
    "# output lr model\n",
    "from sklearn.linear_model import LogisticRegression\n",
    "lr = LogisticRegression(tol=1e-5)\n",
    "%time lr.fit(X, y)\n",
    "joblib.dump(lr, base_path + \"logistic_regression.pkl.z\", compress = 9)"
   ]
  },
  {
   "cell_type": "code",
   "execution_count": 12,
   "metadata": {},
   "outputs": [
    {
     "name": "stdout",
     "output_type": "stream",
     "text": [
      "CPU times: user 161 ms, sys: 41 ms, total: 202 ms\n",
      "Wall time: 258 ms\n"
     ]
    },
    {
     "name": "stderr",
     "output_type": "stream",
     "text": [
      "/Users/lgrcyanny/anaconda2/lib/python2.7/site-packages/sklearn/neural_network/multilayer_perceptron.py:564: ConvergenceWarning: Stochastic Optimizer: Maximum iterations (200) reached and the optimization hasn't converged yet.\n",
      "  % self.max_iter, ConvergenceWarning)\n"
     ]
    },
    {
     "data": {
      "text/plain": [
       "['neural_network.pkl.z']"
      ]
     },
     "execution_count": 12,
     "metadata": {},
     "output_type": "execute_result"
    }
   ],
   "source": [
    "# output NN model\n",
    "from sklearn.neural_network import MLPClassifier\n",
    "nn = MLPClassifier()\n",
    "%time nn.fit(X, y)\n",
    "joblib.dump(nn, base_path + \"neural_network.pkl.z\", compress=9)"
   ]
  },
  {
   "cell_type": "code",
   "execution_count": null,
   "metadata": {
    "collapsed": true
   },
   "outputs": [],
   "source": []
  }
 ],
 "metadata": {
  "kernelspec": {
   "display_name": "Python 2",
   "language": "python",
   "name": "python2"
  },
  "language_info": {
   "codemirror_mode": {
    "name": "ipython",
    "version": 2
   },
   "file_extension": ".py",
   "mimetype": "text/x-python",
   "name": "python",
   "nbconvert_exporter": "python",
   "pygments_lexer": "ipython2",
   "version": "2.7.13"
  }
 },
 "nbformat": 4,
 "nbformat_minor": 2
}
