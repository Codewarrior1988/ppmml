{
 "cells": [
  {
   "cell_type": "markdown",
   "metadata": {},
   "source": [
    "# Transform an r model file to pmml file"
   ]
  },
  {
   "cell_type": "code",
   "execution_count": 5,
   "metadata": {
    "collapsed": true
   },
   "outputs": [],
   "source": [
    "# To generate the model file, please refer to: https://github.com/jpmml/jpmml-r, or run these commands in R\n",
    "# library(\"randomForest\")\n",
    "# rf = randomForest(Species ~ ., data = iris)\n",
    "# saveRDS(rf, \"rf.rds\")\n",
    "model_path = \"../pmml-models/r/random_forest.rds\""
   ]
  },
  {
   "cell_type": "code",
   "execution_count": 6,
   "metadata": {},
   "outputs": [],
   "source": [
    "import ppmml"
   ]
  },
  {
   "cell_type": "code",
   "execution_count": 7,
   "metadata": {},
   "outputs": [
    {
     "name": "stdout",
     "output_type": "stream",
     "text": [
      "INFO: 17-12-28 17:40:39: base_converter.py:89 * 140735235661824 Starting to convert model file ../pmml-models/r/random_forest.rds to pmml file\n",
      "INFO: 17-12-28 17:40:41: base_converter.py:96 * 140735235661824 Successfully generate pmml file: /tmp/pmml-models/r/random_forest.pmml\n"
     ]
    }
   ],
   "source": [
    "ppmml.to_pmml(model_path, \"/tmp/pmml-models/r/random_forest.pmml\", model_type=\"r\")"
   ]
  },
  {
   "cell_type": "code",
   "execution_count": null,
   "metadata": {
    "collapsed": true
   },
   "outputs": [],
   "source": []
  }
 ],
 "metadata": {
  "kernelspec": {
   "display_name": "Python 2",
   "language": "python",
   "name": "python2"
  },
  "language_info": {
   "codemirror_mode": {
    "name": "ipython",
    "version": 2
   },
   "file_extension": ".py",
   "mimetype": "text/x-python",
   "name": "python",
   "nbconvert_exporter": "python",
   "pygments_lexer": "ipython2",
   "version": "2.7.13"
  }
 },
 "nbformat": 4,
 "nbformat_minor": 2
}
