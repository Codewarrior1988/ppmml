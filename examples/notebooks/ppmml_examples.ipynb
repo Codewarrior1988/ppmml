{
 "cells": [
  {
   "cell_type": "code",
   "execution_count": 3,
   "metadata": {
    "collapsed": true
   },
   "outputs": [],
   "source": [
    "import ppmml\n",
    "import pandas as pd"
   ]
  },
  {
   "cell_type": "markdown",
   "metadata": {},
   "source": [
    "# SparkML to PMML"
   ]
  },
  {
   "cell_type": "code",
   "execution_count": 2,
   "metadata": {},
   "outputs": [
    {
     "name": "stdout",
     "output_type": "stream",
     "text": [
      "INFO: 17-12-26 14:30:32: base_converter.py:88 * 140735235661824 Startint to convert model file ../pmml-models/spark/spark-models/decision_tree_model to pmml file /tmp/pmml-models/spark/decision_tree.pmml with schema ../pmml-models/spark/spark-models/decision_tree.json and options: None\n",
      "INFO: 17-12-26 14:30:42: base_converter.py:95 * 140735235661824 Successfully generate pmml file: /tmp/pmml-models/spark/decision_tree.pmml\n"
     ]
    }
   ],
   "source": [
    "base_path = \"../pmml-models/spark/spark-models/\"\n",
    "model_path = base_path + \"decision_tree_model\"\n",
    "schema_path = base_path + \"decision_tree.json\"\n",
    "pmml_path = \"/tmp/pmml-models/spark/decision_tree.pmml\"\n",
    "ppmml.to_pmml(model_input=model_path, schema_input=schema_path, pmml_output=pmml_path, model_type=\"spark\")"
   ]
  },
  {
   "cell_type": "code",
   "execution_count": null,
   "metadata": {
    "collapsed": true
   },
   "outputs": [],
   "source": []
  }
 ],
 "metadata": {
  "kernelspec": {
   "display_name": "Python 2",
   "language": "python",
   "name": "python2"
  },
  "language_info": {
   "codemirror_mode": {
    "name": "ipython",
    "version": 2
   },
   "file_extension": ".py",
   "mimetype": "text/x-python",
   "name": "python",
   "nbconvert_exporter": "python",
   "pygments_lexer": "ipython2",
   "version": "2.7.13"
  }
 },
 "nbformat": 4,
 "nbformat_minor": 2
}
