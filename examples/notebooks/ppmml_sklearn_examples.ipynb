{
 "cells": [
  {
   "cell_type": "code",
   "execution_count": 1,
   "metadata": {
    "collapsed": true
   },
   "outputs": [],
   "source": [
    "import shutil\n",
    "import numpy as np\n",
    "import pandas as pd\n",
    "from sklearn.datasets import load_iris\n",
    "from sklearn.cluster import KMeans\n",
    "from sklearn.externals import joblib\n",
    "import ppmml"
   ]
  },
  {
   "cell_type": "markdown",
   "metadata": {},
   "source": [
    "# Load data"
   ]
  },
  {
   "cell_type": "code",
   "execution_count": 2,
   "metadata": {},
   "outputs": [
    {
     "data": {
      "text/html": [
       "<div>\n",
       "<style>\n",
       "    .dataframe thead tr:only-child th {\n",
       "        text-align: right;\n",
       "    }\n",
       "\n",
       "    .dataframe thead th {\n",
       "        text-align: left;\n",
       "    }\n",
       "\n",
       "    .dataframe tbody tr th {\n",
       "        vertical-align: top;\n",
       "    }\n",
       "</style>\n",
       "<table border=\"1\" class=\"dataframe\">\n",
       "  <thead>\n",
       "    <tr style=\"text-align: right;\">\n",
       "      <th></th>\n",
       "      <th>x1</th>\n",
       "      <th>x2</th>\n",
       "      <th>x3</th>\n",
       "      <th>x4</th>\n",
       "    </tr>\n",
       "  </thead>\n",
       "  <tbody>\n",
       "    <tr>\n",
       "      <th>0</th>\n",
       "      <td>5.1</td>\n",
       "      <td>3.5</td>\n",
       "      <td>1.4</td>\n",
       "      <td>0.2</td>\n",
       "    </tr>\n",
       "    <tr>\n",
       "      <th>1</th>\n",
       "      <td>4.9</td>\n",
       "      <td>3.0</td>\n",
       "      <td>1.4</td>\n",
       "      <td>0.2</td>\n",
       "    </tr>\n",
       "    <tr>\n",
       "      <th>2</th>\n",
       "      <td>4.7</td>\n",
       "      <td>3.2</td>\n",
       "      <td>1.3</td>\n",
       "      <td>0.2</td>\n",
       "    </tr>\n",
       "    <tr>\n",
       "      <th>3</th>\n",
       "      <td>4.6</td>\n",
       "      <td>3.1</td>\n",
       "      <td>1.5</td>\n",
       "      <td>0.2</td>\n",
       "    </tr>\n",
       "    <tr>\n",
       "      <th>4</th>\n",
       "      <td>5.0</td>\n",
       "      <td>3.6</td>\n",
       "      <td>1.4</td>\n",
       "      <td>0.2</td>\n",
       "    </tr>\n",
       "  </tbody>\n",
       "</table>\n",
       "</div>"
      ],
      "text/plain": [
       "    x1   x2   x3   x4\n",
       "0  5.1  3.5  1.4  0.2\n",
       "1  4.9  3.0  1.4  0.2\n",
       "2  4.7  3.2  1.3  0.2\n",
       "3  4.6  3.1  1.5  0.2\n",
       "4  5.0  3.6  1.4  0.2"
      ]
     },
     "execution_count": 2,
     "metadata": {},
     "output_type": "execute_result"
    }
   ],
   "source": [
    "iris_data = load_iris(True)\n",
    "(X, y) = iris_data\n",
    "df = pd.DataFrame(X)\n",
    "df.columns = ['x1', 'x2', 'x3', 'x4']\n",
    "df.head()"
   ]
  },
  {
   "cell_type": "code",
   "execution_count": 3,
   "metadata": {},
   "outputs": [],
   "source": [
    "base_path = \"/tmp/pmml-models/sklearn/\"\n",
    "# Prepare test data\n",
    "test_data_input = base_path + \"test.csv\"\n",
    "df.to_csv(test_data_input, header=True, index=False)"
   ]
  },
  {
   "cell_type": "markdown",
   "metadata": {},
   "source": [
    "# KMeans Example"
   ]
  },
  {
   "cell_type": "code",
   "execution_count": 4,
   "metadata": {},
   "outputs": [
    {
     "name": "stdout",
     "output_type": "stream",
     "text": [
      "CPU times: user 30.6 ms, sys: 1.26 ms, total: 31.9 ms\n",
      "Wall time: 45.5 ms\n"
     ]
    }
   ],
   "source": [
    "# output kmeans model\n",
    "kmeans = KMeans(n_clusters=3, max_iter=100, random_state=42)\n",
    "%time kmeans.fit(X)\n",
    "kmeans_model_path = base_path + \"kmeans.pkl.z\"\n",
    "joblib.dump(kmeans, kmeans_model_path, compress = 9)\n",
    "# call ppmml to convert to pmml file\n",
    "kmeans_pmml_output = base_path + \"kmeans.pmml\""
   ]
  },
  {
   "cell_type": "markdown",
   "metadata": {},
   "source": [
    "## ppmml.to_pmml"
   ]
  },
  {
   "cell_type": "code",
   "execution_count": 5,
   "metadata": {},
   "outputs": [
    {
     "name": "stdout",
     "output_type": "stream",
     "text": [
      "INFO: 17-12-28 15:05:36: base_converter.py:89 * 140735235661824 Starting to convert model file /tmp/pmml-models/sklearn/kmeans.pkl.z to pmml file\n",
      "INFO: 17-12-28 15:05:39: base_converter.py:96 * 140735235661824 Successfully generate pmml file: /tmp/pmml-models/sklearn/kmeans.pmml\n"
     ]
    }
   ],
   "source": [
    "ppmml.to_pmml(model_input=kmeans_model_path, pmml_output=kmeans_pmml_output)"
   ]
  },
  {
   "cell_type": "markdown",
   "metadata": {},
   "source": [
    "## Evaluate the pmml file"
   ]
  },
  {
   "cell_type": "markdown",
   "metadata": {},
   "source": [
    "### ppmml.predict"
   ]
  },
  {
   "cell_type": "code",
   "execution_count": 6,
   "metadata": {},
   "outputs": [
    {
     "name": "stdout",
     "output_type": "stream",
     "text": [
      "INFO: 17-12-28 15:05:39: evaluator.py:62 * 140735235661824 Starting to make predictions of pmml file: /tmp/pmml-models/sklearn/kmeans.pmml, data_input: /tmp/pmml-models/sklearn/test.csv, data_output: /tmp/pmml-models/sklearn/kmeans_predict.csv\n",
      "INFO: 17-12-28 15:05:41: evaluator.py:80 * 140735235661824 Successfully generate predictions to path: /tmp/pmml-models/sklearn/kmeans_predict.csv\n"
     ]
    }
   ],
   "source": [
    "# make prediction with pmml file\n",
    "data_output = base_path + \"kmeans_predict.csv\"\n",
    "ppmml.predict(kmeans_pmml_output, test_data_input, data_output)"
   ]
  },
  {
   "cell_type": "markdown",
   "metadata": {},
   "source": [
    "# Decision Tree Example"
   ]
  },
  {
   "cell_type": "code",
   "execution_count": 7,
   "metadata": {},
   "outputs": [
    {
     "name": "stdout",
     "output_type": "stream",
     "text": [
      "CPU times: user 2 ms, sys: 1.69 ms, total: 3.7 ms\n",
      "Wall time: 2.8 ms\n",
      "INFO: 17-12-28 15:05:41: base_converter.py:89 * 140735235661824 Starting to convert model file /tmp/pmml-models/sklearn/decision_tree.pkl.z to pmml file\n",
      "INFO: 17-12-28 15:05:43: base_converter.py:96 * 140735235661824 Successfully generate pmml file: /tmp/pmml-models/sklearn/decision_tree.pmml\n"
     ]
    }
   ],
   "source": [
    "# output decision tree model\n",
    "from sklearn.tree import DecisionTreeClassifier\n",
    "tree_clf = DecisionTreeClassifier(max_depth=6)\n",
    "%time tree_clf.fit(X, y)\n",
    "model_output = base_path + \"decision_tree.pkl.z\"\n",
    "pmml_output = base_path + \"decision_tree.pmml\"\n",
    "joblib.dump(tree_clf, model_output, compress = 9)\n",
    "ppmml.to_pmml(model_input=model_output, pmml_output=pmml_output)"
   ]
  },
  {
   "cell_type": "code",
   "execution_count": 8,
   "metadata": {},
   "outputs": [
    {
     "name": "stdout",
     "output_type": "stream",
     "text": [
      "INFO: 17-12-28 15:05:43: evaluator.py:62 * 140735235661824 Starting to make predictions of pmml file: /tmp/pmml-models/sklearn/decision_tree.pmml, data_input: /tmp/pmml-models/sklearn/test.csv, data_output: /tmp/pmml-models/sklearn/decision_tree_predict.csv\n",
      "INFO: 17-12-28 15:05:44: evaluator.py:80 * 140735235661824 Successfully generate predictions to path: /tmp/pmml-models/sklearn/decision_tree_predict.csv\n"
     ]
    }
   ],
   "source": [
    "# make prediction with pmml file\n",
    "data_output = base_path + \"decision_tree_predict.csv\"\n",
    "ppmml.predict(pmml_output, test_data_input, data_output)"
   ]
  },
  {
   "cell_type": "markdown",
   "metadata": {},
   "source": [
    "# Random Forest Example"
   ]
  },
  {
   "cell_type": "code",
   "execution_count": 9,
   "metadata": {
    "scrolled": true
   },
   "outputs": [
    {
     "name": "stdout",
     "output_type": "stream",
     "text": [
      "CPU times: user 44 ms, sys: 3.93 ms, total: 47.9 ms\n",
      "Wall time: 46.2 ms\n",
      "INFO: 17-12-28 15:05:44: base_converter.py:89 * 140735235661824 Starting to convert model file /tmp/pmml-models/sklearn/random_forest.pkl.z to pmml file\n",
      "INFO: 17-12-28 15:05:46: base_converter.py:96 * 140735235661824 Successfully generate pmml file: /tmp/pmml-models/sklearn/random_forest.pmml\n"
     ]
    }
   ],
   "source": [
    "# output random forest model\n",
    "from sklearn.ensemble import RandomForestClassifier\n",
    "tree_clf = RandomForestClassifier(max_depth=6)\n",
    "%time tree_clf.fit(X, y)\n",
    "model_output = base_path + \"random_forest.pkl.z\"\n",
    "pmml_output = base_path + \"random_forest.pmml\"\n",
    "joblib.dump(tree_clf, model_output, compress = 9)\n",
    "ppmml.to_pmml(model_input=model_output, pmml_output=pmml_output)"
   ]
  },
  {
   "cell_type": "code",
   "execution_count": 10,
   "metadata": {},
   "outputs": [
    {
     "name": "stdout",
     "output_type": "stream",
     "text": [
      "INFO: 17-12-28 15:05:46: evaluator.py:62 * 140735235661824 Starting to make predictions of pmml file: /tmp/pmml-models/sklearn/random_forest.pmml, data_input: /tmp/pmml-models/sklearn/test.csv, data_output: /tmp/pmml-models/sklearn/random_forest_predict.csv\n",
      "INFO: 17-12-28 15:05:48: evaluator.py:80 * 140735235661824 Successfully generate predictions to path: /tmp/pmml-models/sklearn/random_forest_predict.csv\n"
     ]
    }
   ],
   "source": [
    "# make prediction with pmml file\n",
    "data_output = base_path + \"random_forest_predict.csv\"\n",
    "ppmml.predict(pmml_output, test_data_input, data_output)"
   ]
  },
  {
   "cell_type": "markdown",
   "metadata": {},
   "source": [
    "# Logistic Regression Example"
   ]
  },
  {
   "cell_type": "code",
   "execution_count": 11,
   "metadata": {},
   "outputs": [
    {
     "name": "stdout",
     "output_type": "stream",
     "text": [
      "CPU times: user 88.8 ms, sys: 26.3 ms, total: 115 ms\n",
      "Wall time: 172 ms\n",
      "INFO: 17-12-28 15:05:49: base_converter.py:89 * 140735235661824 Starting to convert model file /tmp/pmml-models/sklearn/logistic_regression.pkl.z to pmml file\n",
      "INFO: 17-12-28 15:05:51: base_converter.py:96 * 140735235661824 Successfully generate pmml file: /tmp/pmml-models/sklearn/logistic_regression.pmml\n"
     ]
    }
   ],
   "source": [
    "# output lr model\n",
    "from sklearn.linear_model import LogisticRegression\n",
    "lr = LogisticRegression(tol=1e-5)\n",
    "%time lr.fit(X, y)\n",
    "model_output = base_path + \"logistic_regression.pkl.z\"\n",
    "pmml_output = base_path + \"logistic_regression.pmml\"\n",
    "joblib.dump(tree_clf, model_output, compress = 9)\n",
    "ppmml.to_pmml(model_input=model_output, pmml_output=pmml_output)"
   ]
  },
  {
   "cell_type": "code",
   "execution_count": 12,
   "metadata": {},
   "outputs": [
    {
     "name": "stdout",
     "output_type": "stream",
     "text": [
      "INFO: 17-12-28 15:05:51: evaluator.py:62 * 140735235661824 Starting to make predictions of pmml file: /tmp/pmml-models/sklearn/logistic_regression.pmml, data_input: /tmp/pmml-models/sklearn/test.csv, data_output: /tmp/pmml-models/sklearn/logistic_regression_predict.csv\n",
      "INFO: 17-12-28 15:05:52: evaluator.py:80 * 140735235661824 Successfully generate predictions to path: /tmp/pmml-models/sklearn/logistic_regression_predict.csv\n"
     ]
    }
   ],
   "source": [
    "# make prediction with pmml file\n",
    "data_output = base_path + \"logistic_regression_predict.csv\"\n",
    "ppmml.predict(pmml_output, test_data_input, data_output)"
   ]
  },
  {
   "cell_type": "markdown",
   "metadata": {},
   "source": [
    "# Neural Network Example"
   ]
  },
  {
   "cell_type": "code",
   "execution_count": 13,
   "metadata": {},
   "outputs": [
    {
     "name": "stdout",
     "output_type": "stream",
     "text": [
      "CPU times: user 161 ms, sys: 18.3 ms, total: 179 ms\n",
      "Wall time: 178 ms\n",
      "INFO: 17-12-28 15:05:53: base_converter.py:89 * 140735235661824 Starting to convert model file /tmp/pmml-models/sklearn/neural_network.pkl.z to pmml file\n"
     ]
    },
    {
     "name": "stderr",
     "output_type": "stream",
     "text": [
      "/Users/lgrcyanny/anaconda2/lib/python2.7/site-packages/sklearn/neural_network/multilayer_perceptron.py:564: ConvergenceWarning: Stochastic Optimizer: Maximum iterations (200) reached and the optimization hasn't converged yet.\n",
      "  % self.max_iter, ConvergenceWarning)\n"
     ]
    },
    {
     "name": "stdout",
     "output_type": "stream",
     "text": [
      "INFO: 17-12-28 15:05:54: base_converter.py:96 * 140735235661824 Successfully generate pmml file: /tmp/pmml-models/sklearn/neural_network.pmml\n"
     ]
    }
   ],
   "source": [
    "# output NN model\n",
    "from sklearn.neural_network import MLPClassifier\n",
    "nn = MLPClassifier()\n",
    "%time nn.fit(X, y)\n",
    "model_output = base_path + \"neural_network.pkl.z\"\n",
    "pmml_output = base_path + \"neural_network.pmml\"\n",
    "joblib.dump(tree_clf, model_output, compress = 9)\n",
    "ppmml.to_pmml(model_input=model_output, pmml_output=pmml_output)"
   ]
  },
  {
   "cell_type": "code",
   "execution_count": 14,
   "metadata": {},
   "outputs": [
    {
     "name": "stdout",
     "output_type": "stream",
     "text": [
      "INFO: 17-12-28 15:05:54: evaluator.py:62 * 140735235661824 Starting to make predictions of pmml file: /tmp/pmml-models/sklearn/neural_network.pmml, data_input: /tmp/pmml-models/sklearn/test.csv, data_output: /tmp/pmml-models/sklearn/neural_network_predict.csv\n",
      "INFO: 17-12-28 15:05:56: evaluator.py:80 * 140735235661824 Successfully generate predictions to path: /tmp/pmml-models/sklearn/neural_network_predict.csv\n"
     ]
    }
   ],
   "source": [
    "# make prediction with pmml file\n",
    "data_output = base_path + \"neural_network_predict.csv\"\n",
    "ppmml.predict(pmml_output, test_data_input, data_output)"
   ]
  },
  {
   "cell_type": "code",
   "execution_count": null,
   "metadata": {
    "collapsed": true
   },
   "outputs": [],
   "source": []
  }
 ],
 "metadata": {
  "kernelspec": {
   "display_name": "Python 2",
   "language": "python",
   "name": "python2"
  },
  "language_info": {
   "codemirror_mode": {
    "name": "ipython",
    "version": 2
   },
   "file_extension": ".py",
   "mimetype": "text/x-python",
   "name": "python",
   "nbconvert_exporter": "python",
   "pygments_lexer": "ipython2",
   "version": "2.7.13"
  }
 },
 "nbformat": 4,
 "nbformat_minor": 2
}
