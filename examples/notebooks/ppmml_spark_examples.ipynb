{
 "cells": [
  {
   "cell_type": "code",
   "execution_count": 3,
   "metadata": {
    "collapsed": true
   },
   "outputs": [],
   "source": [
    "import os\n",
    "os.environ['SPARK_HOME'] = os.environ['HOME'] + \"/Codecookies/sparkworkspace/spark-open-src/dist\"\n",
    "import findspark\n",
    "findspark.init()"
   ]
  },
  {
   "cell_type": "code",
   "execution_count": 10,
   "metadata": {
    "collapsed": true
   },
   "outputs": [],
   "source": [
    "from sklearn.datasets import load_iris\n",
    "import pandas as pd\n",
    "import numpy as np\n",
    "from pyspark.ml.classification import *\n",
    "from pyspark.ml.pipeline import Pipeline\n",
    "from pyspark.ml.feature import *\n",
    "from pyspark.sql import SparkSession"
   ]
  },
  {
   "cell_type": "code",
   "execution_count": 6,
   "metadata": {
    "collapsed": true
   },
   "outputs": [],
   "source": [
    "spark = SparkSession.builder.appName(\"ppmml_test\").master(\"local\").getOrCreate()"
   ]
  },
  {
   "cell_type": "markdown",
   "metadata": {},
   "source": [
    "# Train iris data and export spark model and schema"
   ]
  },
  {
   "cell_type": "code",
   "execution_count": 15,
   "metadata": {
    "collapsed": true
   },
   "outputs": [],
   "source": [
    "iris_data = load_iris(True)\n",
    "(X, y) = iris_data\n",
    "pandas_df = pd.DataFrame(X)\n",
    "features = ['x1', 'x2', 'x3', 'x4']\n",
    "label = 'label'\n",
    "pandas_df.columns = features\n",
    "pandas_df[label] = y"
   ]
  },
  {
   "cell_type": "code",
   "execution_count": 16,
   "metadata": {},
   "outputs": [
    {
     "name": "stdout",
     "output_type": "stream",
     "text": [
      "+---+---+---+---+-----+\n",
      "| x1| x2| x3| x4|label|\n",
      "+---+---+---+---+-----+\n",
      "|5.1|3.5|1.4|0.2|    0|\n",
      "|4.9|3.0|1.4|0.2|    0|\n",
      "|4.7|3.2|1.3|0.2|    0|\n",
      "|4.6|3.1|1.5|0.2|    0|\n",
      "|5.0|3.6|1.4|0.2|    0|\n",
      "+---+---+---+---+-----+\n",
      "only showing top 5 rows\n",
      "\n"
     ]
    }
   ],
   "source": [
    "df = spark.createDataFrame(pandas_df)\n",
    "df.show(5)"
   ]
  },
  {
   "cell_type": "code",
   "execution_count": 17,
   "metadata": {
    "collapsed": true
   },
   "outputs": [],
   "source": [
    "vector_assembler = VectorAssembler(inputCols=features, outputCol=\"features\")\n",
    "lr = LogisticRegression(tol=1e-4, featuresCol=\"features\", labelCol=\"label\")\n",
    "stages = [vector_assembler, lr]\n",
    "pipeline = Pipeline(stages=stages)\n",
    "model = pipeline.fit(df)"
   ]
  },
  {
   "cell_type": "code",
   "execution_count": 22,
   "metadata": {},
   "outputs": [],
   "source": [
    "base_path = \"/tmp/pmml-models/spark/\"\n",
    "model_output = base_path + \"logistic_regression_model\"\n",
    "model.write().overwrite().save(model_output)"
   ]
  },
  {
   "cell_type": "code",
   "execution_count": 23,
   "metadata": {
    "collapsed": true
   },
   "outputs": [],
   "source": [
    "schema_output = base_path + \"logistic_regression.json\"\n",
    "with open(schema_output, 'w+') as f:\n",
    "    f.write(df.schema.json())"
   ]
  },
  {
   "cell_type": "markdown",
   "metadata": {},
   "source": [
    "# Export PMML File with PPMML"
   ]
  },
  {
   "cell_type": "code",
   "execution_count": 24,
   "metadata": {
    "collapsed": true
   },
   "outputs": [],
   "source": [
    "import ppmml"
   ]
  },
  {
   "cell_type": "code",
   "execution_count": 25,
   "metadata": {},
   "outputs": [
    {
     "name": "stdout",
     "output_type": "stream",
     "text": [
      "INFO: 17-12-28 17:34:14: base_converter.py:89 * 140735235661824 Starting to convert model file /tmp/pmml-models/spark/logistic_regression_model to pmml file\n",
      "INFO: 17-12-28 17:34:26: base_converter.py:96 * 140735235661824 Successfully generate pmml file: /tmp/pmml-models/spark/logistic_regression.pmml\n"
     ]
    }
   ],
   "source": [
    "pmml_output = base_path + \"logistic_regression.pmml\"\n",
    "ppmml.to_pmml(model_input=model_output, schema_input=schema_output, pmml_output=pmml_output, model_type=\"spark\")"
   ]
  },
  {
   "cell_type": "markdown",
   "metadata": {},
   "source": [
    "# Predict with pmml file"
   ]
  },
  {
   "cell_type": "code",
   "execution_count": 27,
   "metadata": {},
   "outputs": [],
   "source": [
    "# Prepare test data\n",
    "test_data_input = base_path + \"test.csv\"\n",
    "pandas_df.to_csv(test_data_input, header=True, index=False)"
   ]
  },
  {
   "cell_type": "code",
   "execution_count": 28,
   "metadata": {},
   "outputs": [
    {
     "name": "stdout",
     "output_type": "stream",
     "text": [
      "INFO: 17-12-28 17:36:35: evaluator.py:62 * 140735235661824 Starting to make predictions of pmml file: /tmp/pmml-models/spark/logistic_regression.pmml, data_input: /tmp/pmml-models/spark/test.csv, data_output: /tmp/pmml-models/spark/predict.csv\n",
      "INFO: 17-12-28 17:36:37: evaluator.py:80 * 140735235661824 Successfully generate predictions to path: /tmp/pmml-models/spark/predict.csv\n"
     ]
    }
   ],
   "source": [
    "predict_output = base_path + \"predict.csv\"\n",
    "ppmml.predict(pmml_input=pmml_output,\n",
    "              data_input=test_data_input, data_output=predict_output, options={\"separator\": \",\"})"
   ]
  },
  {
   "cell_type": "code",
   "execution_count": 29,
   "metadata": {},
   "outputs": [
    {
     "data": {
      "text/html": [
       "<div>\n",
       "<style>\n",
       "    .dataframe thead tr:only-child th {\n",
       "        text-align: right;\n",
       "    }\n",
       "\n",
       "    .dataframe thead th {\n",
       "        text-align: left;\n",
       "    }\n",
       "\n",
       "    .dataframe tbody tr th {\n",
       "        vertical-align: top;\n",
       "    }\n",
       "</style>\n",
       "<table border=\"1\" class=\"dataframe\">\n",
       "  <thead>\n",
       "    <tr style=\"text-align: right;\">\n",
       "      <th></th>\n",
       "      <th>x1</th>\n",
       "      <th>x2</th>\n",
       "      <th>x3</th>\n",
       "      <th>x4</th>\n",
       "      <th>label</th>\n",
       "      <th>label.1</th>\n",
       "      <th>pmml(prediction)</th>\n",
       "      <th>prediction</th>\n",
       "      <th>probability(0)</th>\n",
       "      <th>probability(1)</th>\n",
       "      <th>probability(2)</th>\n",
       "    </tr>\n",
       "  </thead>\n",
       "  <tbody>\n",
       "    <tr>\n",
       "      <th>0</th>\n",
       "      <td>5.1</td>\n",
       "      <td>3.5</td>\n",
       "      <td>1.4</td>\n",
       "      <td>0.2</td>\n",
       "      <td>0</td>\n",
       "      <td>0</td>\n",
       "      <td>0</td>\n",
       "      <td>0.0</td>\n",
       "      <td>1.0</td>\n",
       "      <td>2.688870e-31</td>\n",
       "      <td>4.154027e-58</td>\n",
       "    </tr>\n",
       "    <tr>\n",
       "      <th>1</th>\n",
       "      <td>4.9</td>\n",
       "      <td>3.0</td>\n",
       "      <td>1.4</td>\n",
       "      <td>0.2</td>\n",
       "      <td>0</td>\n",
       "      <td>0</td>\n",
       "      <td>0</td>\n",
       "      <td>0.0</td>\n",
       "      <td>1.0</td>\n",
       "      <td>1.408480e-20</td>\n",
       "      <td>1.005972e-45</td>\n",
       "    </tr>\n",
       "    <tr>\n",
       "      <th>2</th>\n",
       "      <td>4.7</td>\n",
       "      <td>3.2</td>\n",
       "      <td>1.3</td>\n",
       "      <td>0.2</td>\n",
       "      <td>0</td>\n",
       "      <td>0</td>\n",
       "      <td>0</td>\n",
       "      <td>0.0</td>\n",
       "      <td>1.0</td>\n",
       "      <td>2.164983e-27</td>\n",
       "      <td>2.591802e-53</td>\n",
       "    </tr>\n",
       "    <tr>\n",
       "      <th>3</th>\n",
       "      <td>4.6</td>\n",
       "      <td>3.1</td>\n",
       "      <td>1.5</td>\n",
       "      <td>0.2</td>\n",
       "      <td>0</td>\n",
       "      <td>0</td>\n",
       "      <td>0</td>\n",
       "      <td>0.0</td>\n",
       "      <td>1.0</td>\n",
       "      <td>1.551617e-24</td>\n",
       "      <td>3.055816e-49</td>\n",
       "    </tr>\n",
       "    <tr>\n",
       "      <th>4</th>\n",
       "      <td>5.0</td>\n",
       "      <td>3.6</td>\n",
       "      <td>1.4</td>\n",
       "      <td>0.2</td>\n",
       "      <td>0</td>\n",
       "      <td>0</td>\n",
       "      <td>0</td>\n",
       "      <td>0.0</td>\n",
       "      <td>1.0</td>\n",
       "      <td>2.022037e-34</td>\n",
       "      <td>2.049216e-61</td>\n",
       "    </tr>\n",
       "  </tbody>\n",
       "</table>\n",
       "</div>"
      ],
      "text/plain": [
       "    x1   x2   x3   x4  label  label.1  pmml(prediction)  prediction  \\\n",
       "0  5.1  3.5  1.4  0.2      0        0                 0         0.0   \n",
       "1  4.9  3.0  1.4  0.2      0        0                 0         0.0   \n",
       "2  4.7  3.2  1.3  0.2      0        0                 0         0.0   \n",
       "3  4.6  3.1  1.5  0.2      0        0                 0         0.0   \n",
       "4  5.0  3.6  1.4  0.2      0        0                 0         0.0   \n",
       "\n",
       "   probability(0)  probability(1)  probability(2)  \n",
       "0             1.0    2.688870e-31    4.154027e-58  \n",
       "1             1.0    1.408480e-20    1.005972e-45  \n",
       "2             1.0    2.164983e-27    2.591802e-53  \n",
       "3             1.0    1.551617e-24    3.055816e-49  \n",
       "4             1.0    2.022037e-34    2.049216e-61  "
      ]
     },
     "execution_count": 29,
     "metadata": {},
     "output_type": "execute_result"
    }
   ],
   "source": [
    "pd.read_csv(predict_output).head(5)"
   ]
  },
  {
   "cell_type": "code",
   "execution_count": null,
   "metadata": {
    "collapsed": true
   },
   "outputs": [],
   "source": []
  }
 ],
 "metadata": {
  "kernelspec": {
   "display_name": "Python 2",
   "language": "python",
   "name": "python2"
  },
  "language_info": {
   "codemirror_mode": {
    "name": "ipython",
    "version": 2
   },
   "file_extension": ".py",
   "mimetype": "text/x-python",
   "name": "python",
   "nbconvert_exporter": "python",
   "pygments_lexer": "ipython2",
   "version": "2.7.13"
  }
 },
 "nbformat": 4,
 "nbformat_minor": 2
}
