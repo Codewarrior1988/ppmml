{
 "cells": [
  {
   "cell_type": "code",
   "execution_count": 1,
   "metadata": {},
   "outputs": [
    {
     "name": "stdout",
     "output_type": "stream",
     "text": [
      "INFO: 17-12-28 21:20:55: base_converter.py:89 * 140735235661824 Starting to convert model file lr.pkl.z to pmml file\n",
      "INFO: 17-12-28 21:20:57: base_converter.py:96 * 140735235661824 Successfully generate pmml file: lr.pmml\n",
      "INFO: 17-12-28 21:20:57: evaluator.py:62 * 140735235661824 Starting to make predictions of pmml file: /Users/lgrcyanny/Codecookies/machine-learning-workspace/pmml-wp/ppmml/examples/notebooks/lr.pmml, data_input: /Users/lgrcyanny/Codecookies/machine-learning-workspace/pmml-wp/ppmml/examples/notebooks/test.csv, data_output: /Users/lgrcyanny/Codecookies/machine-learning-workspace/pmml-wp/ppmml/examples/notebooks/predict.csv\n",
      "INFO: 17-12-28 21:20:59: evaluator.py:80 * 140735235661824 Successfully generate predictions to path: /Users/lgrcyanny/Codecookies/machine-learning-workspace/pmml-wp/ppmml/examples/notebooks/predict.csv\n"
     ]
    }
   ],
   "source": [
    "import pandas as pd\n",
    "from sklearn.datasets import load_iris\n",
    "from sklearn.linear_model import LogisticRegression\n",
    "from sklearn.externals import joblib\n",
    "import ppmml\n",
    "# load data and train iris datasets\n",
    "(X, y) = load_iris(True)\n",
    "lr = LogisticRegression(tol=1e-5)\n",
    "lr.fit(X, y)\n",
    "joblib.dump(lr, \"lr.pkl.z\", compress = 9)\n",
    "\n",
    "# to pmml file\n",
    "ppmml.to_pmml(\"lr.pkl.z\", \"lr.pmml\", model_type='sklearn')\n",
    "\n",
    "# prepare test data\n",
    "df = pd.DataFrame(X)\n",
    "df.columns = ['x1', 'x2', 'x3', 'x4']\n",
    "df.to_csv('test.csv', header=True, index=False)\n",
    "# predit with pmml file, a simple predict API based on jpmml-evaluator\n",
    "ppmml.predict('lr.pmml', 'test.csv', 'predict.csv')"
   ]
  },
  {
   "cell_type": "code",
   "execution_count": null,
   "metadata": {
    "collapsed": true
   },
   "outputs": [],
   "source": []
  }
 ],
 "metadata": {
  "kernelspec": {
   "display_name": "Python 2",
   "language": "python",
   "name": "python2"
  },
  "language_info": {
   "codemirror_mode": {
    "name": "ipython",
    "version": 2
   },
   "file_extension": ".py",
   "mimetype": "text/x-python",
   "name": "python",
   "nbconvert_exporter": "python",
   "pygments_lexer": "ipython2",
   "version": "2.7.13"
  }
 },
 "nbformat": 4,
 "nbformat_minor": 2
}
