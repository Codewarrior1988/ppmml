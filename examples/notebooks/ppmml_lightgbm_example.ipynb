{
 "cells": [
  {
   "cell_type": "code",
   "execution_count": 15,
   "metadata": {
    "collapsed": true
   },
   "outputs": [],
   "source": [
    "import pandas as pd\n",
    "import numpy as np\n",
    "import os\n",
    "from sklearn.datasets import load_iris\n",
    "from sklearn.cluster import KMeans\n",
    "import lightgbm as lgb"
   ]
  },
  {
   "cell_type": "markdown",
   "metadata": {},
   "source": [
    "# Train iris data with lightgbm"
   ]
  },
  {
   "cell_type": "code",
   "execution_count": 16,
   "metadata": {
    "collapsed": true
   },
   "outputs": [],
   "source": [
    "iris_data = load_iris(True)\n",
    "(X, y) = iris_data\n",
    "df = pd.DataFrame(X)\n",
    "features = ['x1', 'x2', 'x3', 'x4']\n",
    "df.columns = features"
   ]
  },
  {
   "cell_type": "code",
   "execution_count": 17,
   "metadata": {},
   "outputs": [
    {
     "data": {
      "text/plain": [
       "LGBMClassifier(boosting_type='gbdt', colsample_bytree=1.0, learning_rate=0.1,\n",
       "        max_bin=255, max_depth=6, min_child_samples=20,\n",
       "        min_child_weight=0.001, min_split_gain=0.0, n_estimators=10,\n",
       "        n_jobs=-1, num_leaves=31, objective='multiclass',\n",
       "        random_state=None, reg_alpha=0.0, reg_lambda=0.0, silent=True,\n",
       "        subsample=1.0, subsample_for_bin=200000, subsample_freq=1)"
      ]
     },
     "execution_count": 17,
     "metadata": {},
     "output_type": "execute_result"
    }
   ],
   "source": [
    "# train lightgbm model\n",
    "gbm = lgb.LGBMClassifier(boosting_type='gbdt', num_leaves=31, max_depth=6, \n",
    "                          learning_rate=0.1, n_estimators=10, objective='multiclass')\n",
    "# please add feature_name option here, in case of predict exception with pmml\n",
    "gbm.fit(X, y, eval_metric='logloss', feature_name=features)"
   ]
  },
  {
   "cell_type": "code",
   "execution_count": 18,
   "metadata": {},
   "outputs": [],
   "source": [
    "# save model\n",
    "gbm_model_output = \"/tmp/pmml-models/light-gbm/classifier.txt\"\n",
    "if not os.path.exists(gbm_model_output):\n",
    "    os.makedirs(\"/tmp/pmml-models/light-gbm/\")\n",
    "gbm.booster_.save_model(gbm_model_output)"
   ]
  },
  {
   "cell_type": "markdown",
   "metadata": {},
   "source": [
    "# Export PMML File"
   ]
  },
  {
   "cell_type": "code",
   "execution_count": 19,
   "metadata": {},
   "outputs": [
    {
     "name": "stdout",
     "output_type": "stream",
     "text": [
      "INFO: 17-12-28 16:24:38: base_converter.py:89 * 140735235661824 Starting to convert model file /tmp/pmml-models/light-gbm/classifier.txt to pmml file\n",
      "INFO: 17-12-28 16:24:40: base_converter.py:96 * 140735235661824 Successfully generate pmml file: /tmp/pmml-models/light-gbm/classifier.pmml\n"
     ]
    }
   ],
   "source": [
    "import ppmml\n",
    "pmml_output = \"/tmp/pmml-models/light-gbm/classifier.pmml\"\n",
    "ppmml.to_pmml(gbm_model_output, pmml_output, model_type=\"lightgbm\")"
   ]
  },
  {
   "cell_type": "markdown",
   "metadata": {
    "collapsed": true
   },
   "source": [
    "# Predict with PMML File"
   ]
  },
  {
   "cell_type": "code",
   "execution_count": 20,
   "metadata": {
    "collapsed": true
   },
   "outputs": [],
   "source": [
    "# Prepare test data\n",
    "test_data_input = \"/tmp/pmml-models/light-gbm/test.csv\"\n",
    "df.to_csv(test_data_input, header=True, index=False)"
   ]
  },
  {
   "cell_type": "code",
   "execution_count": 21,
   "metadata": {},
   "outputs": [
    {
     "name": "stdout",
     "output_type": "stream",
     "text": [
      "INFO: 17-12-28 16:24:40: evaluator.py:62 * 140735235661824 Starting to make predictions of pmml file: /tmp/pmml-models/light-gbm/classifier.pmml, data_input: /tmp/pmml-models/light-gbm/test.csv, data_output: /tmp/pmml-models/light-gbm/predict.csv\n",
      "INFO: 17-12-28 16:24:42: evaluator.py:80 * 140735235661824 Successfully generate predictions to path: /tmp/pmml-models/light-gbm/predict.csv\n"
     ]
    }
   ],
   "source": [
    "data_output = \"/tmp/pmml-models/light-gbm/predict.csv\"\n",
    "ppmml.predict(pmml_output, test_data_input, data_output)"
   ]
  },
  {
   "cell_type": "code",
   "execution_count": 22,
   "metadata": {},
   "outputs": [
    {
     "data": {
      "text/html": [
       "<div>\n",
       "<style>\n",
       "    .dataframe thead tr:only-child th {\n",
       "        text-align: right;\n",
       "    }\n",
       "\n",
       "    .dataframe thead th {\n",
       "        text-align: left;\n",
       "    }\n",
       "\n",
       "    .dataframe tbody tr th {\n",
       "        vertical-align: top;\n",
       "    }\n",
       "</style>\n",
       "<table border=\"1\" class=\"dataframe\">\n",
       "  <thead>\n",
       "    <tr style=\"text-align: right;\">\n",
       "      <th></th>\n",
       "      <th>x1</th>\n",
       "      <th>x2</th>\n",
       "      <th>x3</th>\n",
       "      <th>x4</th>\n",
       "      <th>_target</th>\n",
       "      <th>probability(0)</th>\n",
       "      <th>probability(1)</th>\n",
       "      <th>probability(2)</th>\n",
       "    </tr>\n",
       "  </thead>\n",
       "  <tbody>\n",
       "    <tr>\n",
       "      <th>0</th>\n",
       "      <td>5.1</td>\n",
       "      <td>3.5</td>\n",
       "      <td>1.4</td>\n",
       "      <td>0.2</td>\n",
       "      <td>0</td>\n",
       "      <td>0.718363</td>\n",
       "      <td>0.140680</td>\n",
       "      <td>0.140957</td>\n",
       "    </tr>\n",
       "    <tr>\n",
       "      <th>1</th>\n",
       "      <td>4.9</td>\n",
       "      <td>3.0</td>\n",
       "      <td>1.4</td>\n",
       "      <td>0.2</td>\n",
       "      <td>0</td>\n",
       "      <td>0.709745</td>\n",
       "      <td>0.141756</td>\n",
       "      <td>0.148499</td>\n",
       "    </tr>\n",
       "    <tr>\n",
       "      <th>2</th>\n",
       "      <td>4.7</td>\n",
       "      <td>3.2</td>\n",
       "      <td>1.3</td>\n",
       "      <td>0.2</td>\n",
       "      <td>0</td>\n",
       "      <td>0.709745</td>\n",
       "      <td>0.141756</td>\n",
       "      <td>0.148499</td>\n",
       "    </tr>\n",
       "    <tr>\n",
       "      <th>3</th>\n",
       "      <td>4.6</td>\n",
       "      <td>3.1</td>\n",
       "      <td>1.5</td>\n",
       "      <td>0.2</td>\n",
       "      <td>0</td>\n",
       "      <td>0.710448</td>\n",
       "      <td>0.140906</td>\n",
       "      <td>0.148646</td>\n",
       "    </tr>\n",
       "    <tr>\n",
       "      <th>4</th>\n",
       "      <td>5.0</td>\n",
       "      <td>3.6</td>\n",
       "      <td>1.4</td>\n",
       "      <td>0.2</td>\n",
       "      <td>0</td>\n",
       "      <td>0.725032</td>\n",
       "      <td>0.137349</td>\n",
       "      <td>0.137619</td>\n",
       "    </tr>\n",
       "  </tbody>\n",
       "</table>\n",
       "</div>"
      ],
      "text/plain": [
       "    x1   x2   x3   x4  _target  probability(0)  probability(1)  probability(2)\n",
       "0  5.1  3.5  1.4  0.2        0        0.718363        0.140680        0.140957\n",
       "1  4.9  3.0  1.4  0.2        0        0.709745        0.141756        0.148499\n",
       "2  4.7  3.2  1.3  0.2        0        0.709745        0.141756        0.148499\n",
       "3  4.6  3.1  1.5  0.2        0        0.710448        0.140906        0.148646\n",
       "4  5.0  3.6  1.4  0.2        0        0.725032        0.137349        0.137619"
      ]
     },
     "execution_count": 22,
     "metadata": {},
     "output_type": "execute_result"
    }
   ],
   "source": [
    "df = pd.read_csv(data_output)\n",
    "df.head(5)"
   ]
  },
  {
   "cell_type": "code",
   "execution_count": null,
   "metadata": {
    "collapsed": true
   },
   "outputs": [],
   "source": []
  }
 ],
 "metadata": {
  "kernelspec": {
   "display_name": "Python 2",
   "language": "python",
   "name": "python2"
  },
  "language_info": {
   "codemirror_mode": {
    "name": "ipython",
    "version": 2
   },
   "file_extension": ".py",
   "mimetype": "text/x-python",
   "name": "python",
   "nbconvert_exporter": "python",
   "pygments_lexer": "ipython2",
   "version": "2.7.13"
  }
 },
 "nbformat": 4,
 "nbformat_minor": 2
}
