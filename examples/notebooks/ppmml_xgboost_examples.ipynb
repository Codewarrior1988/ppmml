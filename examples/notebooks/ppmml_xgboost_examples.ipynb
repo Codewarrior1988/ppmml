{
 "cells": [
  {
   "cell_type": "code",
   "execution_count": 25,
   "metadata": {
    "collapsed": true
   },
   "outputs": [],
   "source": [
    "import os\n",
    "import pandas as pd\n",
    "import numpy as np\n",
    "from sklearn.datasets import load_iris\n",
    "import xgboost"
   ]
  },
  {
   "cell_type": "markdown",
   "metadata": {},
   "source": [
    "# Train iris data with xgboost"
   ]
  },
  {
   "cell_type": "code",
   "execution_count": 16,
   "metadata": {
    "collapsed": true
   },
   "outputs": [],
   "source": [
    "iris_data = load_iris(True)\n",
    "(X, y) = iris_data\n",
    "df = pd.DataFrame(X)\n",
    "df.columns = ['x1', 'x2', 'x3', 'x4']"
   ]
  },
  {
   "cell_type": "code",
   "execution_count": 17,
   "metadata": {
    "collapsed": true
   },
   "outputs": [],
   "source": [
    "def gen_fmap_file(features, fout):\n",
    "    with open(fout, 'w+') as f:\n",
    "        for i, feature in enumerate(features):\n",
    "            f.write(\"{0}\\t{1}\\tq\\n\".format(i, feature))\n",
    "fmap_file = \"/tmp/pmml-models/xgboost/classifier.fmap\"\n",
    "gen_fmap_file(['x1', 'x2', 'x3', 'x4'], fmap_file)"
   ]
  },
  {
   "cell_type": "code",
   "execution_count": 18,
   "metadata": {},
   "outputs": [
    {
     "name": "stdout",
     "output_type": "stream",
     "text": [
      "CPU times: user 13.1 ms, sys: 16.1 ms, total: 29.2 ms\n",
      "Wall time: 32.1 ms\n"
     ]
    },
    {
     "data": {
      "text/plain": [
       "XGBClassifier(base_score=0.5, colsample_bylevel=1, colsample_bytree=1,\n",
       "       gamma=0, learning_rate=0.1, max_delta_step=0, max_depth=6,\n",
       "       min_child_weight=1, missing=None, n_estimators=10, nthread=-1,\n",
       "       objective='multi:softprob', reg_alpha=0, reg_lambda=1,\n",
       "       scale_pos_weight=1, seed=0, silent=True, subsample=1)"
      ]
     },
     "execution_count": 18,
     "metadata": {},
     "output_type": "execute_result"
    }
   ],
   "source": [
    "# output xgboost model\n",
    "classifier = xgboost.XGBClassifier(max_depth=6, learning_rate=0.1,\n",
    "                                   n_estimators=10,\n",
    "                                   silent=True, objective='\"multi:softmax\"')\n",
    "%time classifier.fit(X, y)"
   ]
  },
  {
   "cell_type": "code",
   "execution_count": 26,
   "metadata": {},
   "outputs": [],
   "source": [
    "# save xgboost model\n",
    "xgboost_model_path = \"/tmp/pmml-models/xgboost/classifier.model\"\n",
    "if not os.path.exists(\"/tmp/pmml-models/xgboost\"):\n",
    "    os.makedirs(\"/tmp/pmml-models/xgboost\")\n",
    "classifier._Booster.save_model(xgboost_model_path)"
   ]
  },
  {
   "cell_type": "markdown",
   "metadata": {
    "collapsed": true
   },
   "source": [
    "# Export Model as PMML File"
   ]
  },
  {
   "cell_type": "code",
   "execution_count": 20,
   "metadata": {
    "collapsed": true
   },
   "outputs": [],
   "source": [
    "import ppmml"
   ]
  },
  {
   "cell_type": "code",
   "execution_count": 21,
   "metadata": {},
   "outputs": [
    {
     "name": "stdout",
     "output_type": "stream",
     "text": [
      "INFO: 17-12-28 16:10:20: base_converter.py:89 * 140735235661824 Starting to convert model file /tmp/pmml-models/xgboost/classifier.model to pmml file\n",
      "INFO: 17-12-28 16:10:22: base_converter.py:96 * 140735235661824 Successfully generate pmml file: /tmp/pmml-models/xgboost/classifier.pmml\n"
     ]
    }
   ],
   "source": [
    "pmml_output = \"/tmp/pmml-models/xgboost/classifier.pmml\"\n",
    "ppmml.to_pmml(model_input=xgboost_model_path,\n",
    "              schema_input=fmap_file,\n",
    "              pmml_output=pmml_output, model_type=\"xgboost\")"
   ]
  },
  {
   "cell_type": "markdown",
   "metadata": {},
   "source": [
    "# Predict with pmml file, a simple predict function"
   ]
  },
  {
   "cell_type": "code",
   "execution_count": 22,
   "metadata": {
    "collapsed": true
   },
   "outputs": [],
   "source": [
    "# Prepare test data\n",
    "test_data_input = \"/tmp/pmml-models/xgboost/test.csv\"\n",
    "df.to_csv(test_data_input, header=True, index=False)"
   ]
  },
  {
   "cell_type": "code",
   "execution_count": 23,
   "metadata": {},
   "outputs": [
    {
     "name": "stdout",
     "output_type": "stream",
     "text": [
      "INFO: 17-12-28 16:10:22: evaluator.py:62 * 140735235661824 Starting to make predictions of pmml file: /tmp/pmml-models/xgboost/classifier.pmml, data_input: /tmp/pmml-models/xgboost/test.csv, data_output: /tmp/pmml-models/xgboost/predict.csv\n",
      "INFO: 17-12-28 16:10:24: evaluator.py:80 * 140735235661824 Successfully generate predictions to path: /tmp/pmml-models/xgboost/predict.csv\n"
     ]
    }
   ],
   "source": [
    "predict_output = \"/tmp/pmml-models/xgboost/predict.csv\"\n",
    "ppmml.predict(pmml_input=pmml_output,\n",
    "              data_input=test_data_input, data_output=predict_output, options={\"separator\": \",\"})"
   ]
  },
  {
   "cell_type": "code",
   "execution_count": null,
   "metadata": {
    "collapsed": true
   },
   "outputs": [],
   "source": []
  }
 ],
 "metadata": {
  "kernelspec": {
   "display_name": "Python 2",
   "language": "python",
   "name": "python2"
  },
  "language_info": {
   "codemirror_mode": {
    "name": "ipython",
    "version": 2
   },
   "file_extension": ".py",
   "mimetype": "text/x-python",
   "name": "python",
   "nbconvert_exporter": "python",
   "pygments_lexer": "ipython2",
   "version": "2.7.13"
  }
 },
 "nbformat": 4,
 "nbformat_minor": 2
}
